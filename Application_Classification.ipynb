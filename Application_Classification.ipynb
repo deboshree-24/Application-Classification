{
  "nbformat": 4,
  "nbformat_minor": 0,
  "metadata": {
    "colab": {
      "provenance": [],
      "authorship_tag": "ABX9TyNOmrC5bJy/dqoOkqCo2SCI"
    },
    "kernelspec": {
      "name": "python3",
      "display_name": "Python 3"
    },
    "language_info": {
      "name": "python"
    }
  },
  "cells": [
    {
      "cell_type": "markdown",
      "source": [
        "# Dataset and Imports"
      ],
      "metadata": {
        "id": "2zWxWLU2r40k"
      }
    },
    {
      "cell_type": "code",
      "source": [
        "from google.colab import drive\n",
        "drive.mount('/content/drive')"
      ],
      "metadata": {
        "id": "XZwKgQZgr7VE"
      },
      "execution_count": null,
      "outputs": []
    },
    {
      "cell_type": "code",
      "source": [
        "import os\n",
        "import glob\n",
        "import pandas as pd\n",
        "import numpy as np\n",
        "import matplotlib.pyplot as plt\n",
        "import seaborn as sns "
      ],
      "metadata": {
        "id": "bEo4Lri_B6VM"
      },
      "execution_count": null,
      "outputs": []
    },
    {
      "cell_type": "code",
      "source": [
        "#training data\n",
        "Path1=\"/content/drive/MyDrive/SemII/CMPE788/Dataset/classes_csvs/video/iscx_voip_REG.csv\"\n",
        "df1 = pd.read_csv(Path1, low_memory=False)\n",
        "df1.columns"
      ],
      "metadata": {
        "id": "lGTryrpbFuSW"
      },
      "execution_count": null,
      "outputs": []
    },
    {
      "cell_type": "code",
      "source": [
        "#testing data\n",
        "Path2=\"/content/drive/MyDrive/SemII/CMPE788/Dataset/classes_csvs/chat/voip_VPN.csv\"\n",
        "df2 = pd.read_csv(Path2, low_memory=False)\n",
        "df2.columns"
      ],
      "metadata": {
        "id": "leLYsPumzLur"
      },
      "execution_count": null,
      "outputs": []
    },
    {
      "cell_type": "code",
      "source": [
        "#Combined testing data\n",
        "Path3=\"/content/drive/MyDrive/SemII/CMPE788/Dataset/classes_csvs/chat/voip_Combined.csv\"\n",
        "df3 = pd.read_csv(Path3, low_memory=False)\n",
        "df3.columns"
      ],
      "metadata": {
        "id": "2FdbA83Ej_cT"
      },
      "execution_count": null,
      "outputs": []
    },
    {
      "cell_type": "code",
      "source": [
        "flow_counts = df1['Flow ID'].value_counts()\n",
        "# print(flow_counts)\n",
        "\n",
        "labels = flow_counts.index\n",
        "sizes = flow_counts.values\n",
        "\n",
        "plt.pie(sizes, labels=labels, autopct='%1.1f%%')\n",
        "plt.axis('equal')\n",
        "\n",
        "plt.title('Application Distribution - Non VPN/tor')\n",
        "\n",
        "plt.show() "
      ],
      "metadata": {
        "id": "ZkmldQNSnSfU"
      },
      "execution_count": null,
      "outputs": []
    },
    {
      "cell_type": "code",
      "source": [
        "flow_counts = df2['Flow ID'].value_counts()\n",
        "\n",
        "labels = flow_counts.index\n",
        "sizes = flow_counts.values\n",
        "\n",
        "plt.pie(sizes, labels=labels, autopct='%1.1f%%')\n",
        "plt.axis('equal')\n",
        "\n",
        "plt.title('Application Distribution - VPN/tor')\n",
        "\n",
        "plt.show()"
      ],
      "metadata": {
        "id": "lnQCPE0NnSm7"
      },
      "execution_count": null,
      "outputs": []
    },
    {
      "cell_type": "markdown",
      "source": [
        "# Feature Selection"
      ],
      "metadata": {
        "id": "OhpLHBMyEICF"
      }
    },
    {
      "cell_type": "code",
      "source": [
        "# Compute the correlation matrix\n",
        "corr_matrix = df1.corr()\n",
        "\n",
        "# Extract the correlation coefficients between each column and the target column\n",
        "target_corr = corr_matrix['Label']\n",
        "\n",
        "# Print the correlation coefficients in descending order\n",
        "print(target_corr.sort_values(ascending=False))"
      ],
      "metadata": {
        "id": "MxwrVamCEK1g"
      },
      "execution_count": null,
      "outputs": []
    },
    {
      "cell_type": "markdown",
      "source": [
        "# Data Preprocessing\n"
      ],
      "metadata": {
        "id": "_CldEoIhCkVX"
      }
    },
    {
      "cell_type": "code",
      "source": [
        "# Drop unnecessary columns\n",
        "df1.drop(['Flow ID', 'Source IP', 'Source Port', 'Destination IP', 'Destination Port', 'Protocol'], axis=1, inplace=True)\n",
        "\n",
        "# Check for missing values\n",
        "print(df1.isnull().sum())\n",
        "\n",
        "# Impute missing values with mean\n",
        "df1.fillna(df1.mean(), inplace=True)\n",
        "\n",
        "# Encode categorical variables\n",
        "from sklearn.preprocessing import LabelEncoder\n",
        "label_encoder = LabelEncoder()\n",
        "df1['Label'] = label_encoder.fit_transform(df1['Label'])\n",
        "\n",
        "# Normalize/Scale numerical variables\n",
        "from sklearn.preprocessing import StandardScaler\n",
        "scaler = StandardScaler()\n",
        "df1[df1.columns[:-1]] = scaler.fit_transform(df1[df1.columns[:-1]])"
      ],
      "metadata": {
        "id": "9rFNXa1pCo_x"
      },
      "execution_count": null,
      "outputs": []
    },
    {
      "cell_type": "markdown",
      "source": [
        "# Naive Bayes Classifier\n"
      ],
      "metadata": {
        "id": "7gmr1qmzsOoF"
      }
    },
    {
      "cell_type": "code",
      "source": [
        "from sklearn.model_selection import train_test_split\n",
        "\n",
        "X = df1.drop('Label', axis=1) #features\n",
        "y = df1['Label'] #target variable\n",
        "\n",
        "X_train, X_test, y_train, y_test = train_test_split(X, y, test_size=0.10, random_state=42)"
      ],
      "metadata": {
        "id": "bx2q7C2CeguN"
      },
      "execution_count": null,
      "outputs": []
    },
    {
      "cell_type": "code",
      "source": [
        "from sklearn.naive_bayes import GaussianNB\n",
        "\n",
        "# create an instance of the classifier\n",
        "gnb = GaussianNB()\n",
        "\n",
        "# train the classifier on the training data\n",
        "gnb.fit(X_train, y_train)\n"
      ],
      "metadata": {
        "id": "_yPF7CWTr1G6"
      },
      "execution_count": null,
      "outputs": []
    },
    {
      "cell_type": "code",
      "source": [
        "# make predictions on the testing data\n",
        "y_pred = gnb.predict(X_test)\n"
      ],
      "metadata": {
        "id": "Mt4M8OcLDWYe"
      },
      "execution_count": null,
      "outputs": []
    },
    {
      "cell_type": "code",
      "source": [
        "from sklearn.metrics import accuracy_score\n",
        "\n",
        "# compute the accuracy of the classifier on the testing data\n",
        "accuracy = accuracy_score(y_test, y_pred)\n",
        "\n",
        "print('Accuracy:', accuracy)\n"
      ],
      "metadata": {
        "colab": {
          "base_uri": "https://localhost:8080/"
        },
        "id": "5DPJeId2DZCS",
        "outputId": "b07baaf1-2197-435e-9036-2747f0b6d3fb"
      },
      "execution_count": null,
      "outputs": [
        {
          "output_type": "stream",
          "name": "stdout",
          "text": [
            "Accuracy: 0.6875\n"
          ]
        }
      ]
    },
    {
      "cell_type": "code",
      "source": [
        "# calculate the F1 score for the predicted labels\n",
        "from sklearn.metrics import f1_score\n",
        "f1 = f1_score(y_test, y_pred, average='weighted')\n",
        "\n",
        "# print the F1 score\n",
        "print(\"F1 score:\", f1) \n"
      ],
      "metadata": {
        "colab": {
          "base_uri": "https://localhost:8080/"
        },
        "id": "EBzP0P5JDnNW",
        "outputId": "8ab55d31-4fe3-4170-e55f-f719e73b7e32"
      },
      "execution_count": null,
      "outputs": [
        {
          "output_type": "stream",
          "name": "stdout",
          "text": [
            "F1 score: 0.6125\n"
          ]
        }
      ]
    },
    {
      "cell_type": "markdown",
      "source": [
        "### Applying the NBC to new data"
      ],
      "metadata": {
        "id": "5nXyefYXozP1"
      }
    },
    {
      "cell_type": "code",
      "source": [
        "# Drop unnecessary columns\n",
        "df2.drop(['Flow ID', 'Source IP', 'Source Port', 'Destination IP', 'Destination Port', 'Protocol'], axis=1, inplace=True)\n",
        "\n",
        "# Check for missing values\n",
        "print(df2.isnull().sum())\n",
        "\n",
        "# Impute missing values with mean\n",
        "df2.fillna(df2.mean(), inplace=True)\n",
        "\n",
        "# Encode categorical variables\n",
        "from sklearn.preprocessing import LabelEncoder\n",
        "label_encoder = LabelEncoder()\n",
        "df2['Label'] = label_encoder.fit_transform(df2['Label'])\n",
        "\n",
        "# Normalize/Scale numerical variables\n",
        "from sklearn.preprocessing import StandardScaler\n",
        "scaler = StandardScaler()\n",
        "df2[df2.columns[:-1]] = scaler.fit_transform(df2[df2.columns[:-1]])"
      ],
      "metadata": {
        "id": "EyVztguKpGDg"
      },
      "execution_count": null,
      "outputs": []
    },
    {
      "cell_type": "code",
      "source": [
        "# make predictions on the new data\n",
        "y_pred_e1 = gnb.predict(df2.drop('Label', axis=1))\n",
        "\n",
        "# print the predicted labels\n",
        "# print(y_pred_e1)\n"
      ],
      "metadata": {
        "id": "L49BCVCCqGuD"
      },
      "execution_count": null,
      "outputs": []
    },
    {
      "cell_type": "code",
      "source": [
        "from sklearn.metrics import accuracy_score, f1_score\n",
        "\n",
        "# extract the true labels from df2\n",
        "y_true_e1 = df2['Label']\n",
        "\n",
        "# calculate the accuracy of the new predictions\n",
        "accuracy_e1 = accuracy_score(y_true_e1, y_pred_e1)\n",
        "\n",
        "# calculate the F1 score for the new predictions\n",
        "f1_e1 = f1_score(y_true_e1, y_pred_e1, average='weighted')\n",
        "\n",
        "# print the accuracy and F1 score for the new predictions\n",
        "print('New data accuracy:', accuracy_e1)\n",
        "print('New data F1 score:', f1_e1)\n"
      ],
      "metadata": {
        "id": "T4s4tpVpqNWC"
      },
      "execution_count": null,
      "outputs": []
    },
    {
      "cell_type": "markdown",
      "source": [
        "### Applying the NBC to a combination of old and new data"
      ],
      "metadata": {
        "id": "wdJ6u4BZkQPb"
      }
    },
    {
      "cell_type": "code",
      "source": [
        "# Drop unnecessary columns\n",
        "df3.drop(['Flow ID', 'Source IP', 'Source Port', 'Destination IP', 'Destination Port', 'Protocol'], axis=1, inplace=True)\n",
        "\n",
        "# Check for missing values\n",
        "print(df3.isnull().sum())\n",
        "\n",
        "# Impute missing values with mean\n",
        "df3.fillna(df3.mean(), inplace=True)\n",
        "\n",
        "# Encode categorical variables\n",
        "from sklearn.preprocessing import LabelEncoder\n",
        "label_encoder = LabelEncoder()\n",
        "df3['Label'] = label_encoder.fit_transform(df3['Label'])\n",
        "\n",
        "# Normalize/Scale numerical variables\n",
        "from sklearn.preprocessing import StandardScaler\n",
        "scaler = StandardScaler()\n",
        "df1[df3.columns[:-1]] = scaler.fit_transform(df1[df3.columns[:-1]])"
      ],
      "metadata": {
        "id": "N2SpU0yUkQPi"
      },
      "execution_count": null,
      "outputs": []
    },
    {
      "cell_type": "code",
      "source": [
        "# make predictions on the new data\n",
        "y_pred_e2 = gnb.predict(df3.drop('Label', axis=1))\n",
        "\n",
        "# print the predicted labels\n",
        "# print(y_pred_new)\n",
        " "
      ],
      "metadata": {
        "id": "kQxKlSpakQPi"
      },
      "execution_count": null,
      "outputs": []
    },
    {
      "cell_type": "code",
      "source": [
        "from sklearn.metrics import accuracy_score, f1_score\n",
        "\n",
        "# extract the true labels from df2\n",
        "y_true_e2 = df3['Label']\n",
        "\n",
        "# calculate the accuracy of the new predictions\n",
        "accuracy_e2 = accuracy_score(y_true_e2, y_pred_e2)\n",
        "\n",
        "# calculate the F1 score for the new predictions\n",
        "f1_e2 = f1_score(y_true_e2, y_pred_e2, average='weighted')\n",
        "\n",
        "# print the accuracy and F1 score for the new predictions\n",
        "print('New data accuracy:', accuracy_e2)\n",
        "print('New data F1 score:', f1_e2)\n"
      ],
      "metadata": {
        "id": "gKG6GjbukQPj"
      },
      "execution_count": null,
      "outputs": []
    },
    {
      "cell_type": "markdown",
      "source": [
        "### Comparing the NBC results"
      ],
      "metadata": {
        "id": "g8Z5q-ylqs2I"
      }
    },
    {
      "cell_type": "code",
      "source": [
        "import matplotlib.pyplot as plt\n",
        "\n",
        "accuracy_values = [accuracy, accuracy_e2]\n",
        "\n",
        "# create a bar plot of the accuracy values\n",
        "fig, ax = plt.subplots()\n",
        "ax.bar(['Old', 'New'], accuracy_values)\n",
        "ax.set_ylabel('Accuracy')\n",
        "ax.set_title('Accuracy Comparison')\n",
        "plt.show()\n"
      ],
      "metadata": {
        "colab": {
          "base_uri": "https://localhost:8080/",
          "height": 281
        },
        "id": "e0qyOU7lqvfL",
        "outputId": "537c3022-1444-4f1a-9e7d-f0dfd4e09402"
      },
      "execution_count": null,
      "outputs": [
        {
          "output_type": "display_data",
          "data": {
            "text/plain": [
              "<Figure size 432x288 with 1 Axes>"
            ],
            "image/png": "[encoded data removed]"
          },
          "metadata": {
            "needs_background": "light"
          }
        }
      ]
    },
    {
      "cell_type": "code",
      "source": [
        "import matplotlib.pyplot as plt\n",
        "\n",
        "f1_values = [f1, f1_e2]\n",
        "\n",
        "# create a bar plot of the F1 score values\n",
        "fig, ax = plt.subplots()\n",
        "ax.bar(['Old', 'New'], f1_values)\n",
        "ax.set_ylabel('F1 Score')\n",
        "ax.set_title('F1 Score Comparison')\n",
        "plt.show()\n"
      ],
      "metadata": {
        "id": "Zx0yNXJmq-g2",
        "outputId": "0074f45b-9915-4744-a836-02de5f550679",
        "colab": {
          "base_uri": "https://localhost:8080/",
          "height": 281
        }
      },
      "execution_count": null,
      "outputs": [
        {
          "output_type": "display_data",
          "data": {
            "text/plain": [
              "<Figure size 432x288 with 1 Axes>"
            ],
            "image/png": "[encoded data removed]"
          },
          "metadata": {
            "needs_background": "light"
          }
        }
      ]
    },
    {
      "cell_type": "markdown",
      "source": [
        "# Feed Forward Neural Net\n"
      ],
      "metadata": {
        "id": "wXxgP4wwlewn"
      }
    },
    {
      "cell_type": "code",
      "source": [
        "from keras.models import Sequential\n",
        "from keras.layers import Dense\n",
        "from sklearn.model_selection import train_test_split\n",
        "from sklearn.preprocessing import StandardScaler\n",
        "\n",
        "# Split the dataset into train and test sets\n",
        "X = df1.drop('Label', axis=1)\n",
        "y = df1['Label']\n",
        "X_train, X_test, y_train, y_test = train_test_split(X, y, test_size=0.08, random_state=42)\n",
        "\n",
        "# Perform standard scaling on the input features\n",
        "scaler = StandardScaler()\n",
        "X_train_scaled = scaler.fit_transform(X_train)\n",
        "X_test_scaled = scaler.transform(X_test)\n",
        "\n",
        "# Create a sequential FFNN model\n",
        "model = Sequential()\n",
        "\n",
        "# Add input layer with the number of features as input_dim\n",
        "model.add(Dense(units=64, activation='relu', input_dim=X_train_scaled.shape[1]))\n",
        "\n",
        "# Add hidden layers\n",
        "model.add(Dense(units=128, activation='relu'))\n",
        "model.add(Dense(units=64, activation='relu'))\n",
        "\n",
        "# Add output layer with sigmoid activation for binary classification\n",
        "model.add(Dense(units=1, activation='sigmoid'))\n",
        "\n",
        "# Compile the model\n",
        "model.compile(optimizer='adam', loss='binary_crossentropy', metrics=['accuracy'])\n",
        "\n",
        "# Train the model on the preprocessed data\n",
        "model.fit(X_train_scaled, y_train, epochs=500, batch_size=32)\n",
        "\n",
        "# Evaluate the model on the test set\n",
        "X_test_scaled = scaler.transform(X_test)\n",
        "loss, accuracy = model.evaluate(X_test_scaled, y_test)\n",
        "print('Test Loss:', loss)\n",
        "print('Test Accuracy:', accuracy)\n"
      ],
      "metadata": {
        "id": "DTqWmvlsWgOS"
      },
      "execution_count": null,
      "outputs": []
    },
    {
      "cell_type": "code",
      "source": [
        "# Evaluate the model on test data\n",
        "X_test = df2.drop('Label', axis=1)\n",
        "y_test = df2['Label']\n",
        "\n",
        "# Normalize test data if needed\n",
        "X_test_scaled = scaler.transform(X_test)\n",
        "\n",
        "# Obtain model predictions\n",
        "y_pred = model.predict(X_test_scaled)\n",
        "\n",
        "# Convert predictions to binary labels (0 or 1) based on a threshold \n",
        "y_pred_binary = (y_pred > 0.5).astype(int)\n",
        "\n",
        "# Calculate accuracy\n",
        "accuracy = (y_pred_binary.flatten() == y_test.values).mean()\n",
        "print(\"Accuracy: \", accuracy)\n"
      ],
      "metadata": {
        "id": "OvPbB80-lewx"
      },
      "execution_count": null,
      "outputs": []
    },
    {
      "cell_type": "code",
      "source": [
        "loss, accuracy = model.evaluate(X_test, y_test)\n",
        "print('Test loss:', loss)\n",
        "print('Test accuracy:', accuracy)"
      ],
      "metadata": {
        "id": "V5JKlGyOlewy"
      },
      "execution_count": null,
      "outputs": []
    },
    {
      "cell_type": "markdown",
      "source": [
        "# Layer Freezing \n",
        "Started by creating my own base model, which is similar to the original model. Then compiled and trained the base model on the data. After that, created a new model transfer_model for transfer learning, and added the same layers as in the base model. Transfered the weights from the base model to the transfer model using the set_weights() method. Compiled and trained the transfer model on the original data, and evaluated it on the test data.\n",
        "\n"
      ],
      "metadata": {
        "id": "h1Fum-KXmQy7"
      }
    },
    {
      "cell_type": "code",
      "source": [
        "from keras.models import Sequential\n",
        "from keras.layers import Dense\n",
        "from sklearn.model_selection import train_test_split\n",
        "from sklearn.preprocessing import StandardScaler\n",
        "\n",
        "# Split the dataset into train and test sets\n",
        "X = df1.drop('Label', axis=1)\n",
        "y = df1['Label']\n",
        "X_train, X_test, y_train, y_test = train_test_split(X, y, test_size=0.08, random_state=42)\n",
        "\n",
        "# Perform standard scaling on the input features\n",
        "scaler = StandardScaler()\n",
        "X_train_scaled = scaler.fit_transform(X_train)\n",
        "X_test_scaled = scaler.transform(X_test)\n",
        "\n",
        "####\n",
        "X2 = df2.drop('Label', axis=1)\n",
        "y2 = df2['Label']\n",
        "X_train2, X_test2, y_train2, y_test2 = train_test_split(X2, y2, test_size=0.08, random_state=42)\n",
        "scaler = StandardScaler()\n",
        "X_train_scaled2 = scaler.fit_transform(X_train2)\n",
        "X_test_scaled2 = scaler.transform(X_test2)\n",
        "####\n",
        "\n",
        "# Create a sequential FFNN model\n",
        "model = Sequential()\n",
        "\n",
        "# Add input layer with the number of features as input_dim\n",
        "model.add(Dense(units=64, activation='relu', input_dim=X_train_scaled.shape[1], trainable=False)) # Freeze the initial layer\n",
        "\n",
        "# Add hidden layers\n",
        "model.add(Dense(units=128, activation='relu', trainable=False))\n",
        "model.add(Dense(units=64, activation='relu'))\n",
        "\n",
        "# Add output layer with sigmoid activation for binary classification\n",
        "model.add(Dense(units=1, activation='sigmoid'))\n",
        "\n",
        "# Compile the model\n",
        "model.compile(optimizer='adam', loss='binary_crossentropy', metrics=['accuracy'])\n",
        "\n",
        "# Train the model on the preprocessed data\n",
        "model.fit(X_train_scaled, y_train, epochs=500, batch_size=32)\n",
        "\n",
        "# Evaluate the model on the test set\n",
        "X_test_scaled2 = scaler.transform(X_test2)\n",
        "loss, accuracy = model.evaluate(X_test_scaled2, y_test2)\n",
        "print('Test Loss:', loss)\n",
        "print('Test Accuracy:', accuracy)\n"
      ],
      "metadata": {
        "id": "hTeQcaAEmQzJ"
      },
      "execution_count": null,
      "outputs": []
    },
    {
      "cell_type": "markdown",
      "source": [
        "# Comparisons"
      ],
      "metadata": {
        "id": "0iUpMz4SmiBl"
      }
    },
    {
      "cell_type": "code",
      "source": [
        "import matplotlib.pyplot as plt\n",
        "\n",
        "# Create a bar graph\n",
        "fig, ax = plt.subplots()\n",
        "ax.bar('Original Data', accuracy_original_data, label='Original Data')\n",
        "ax.bar('New Data', accuracy_new_data, label='New Data')\n",
        "\n",
        "# Add labels and title\n",
        "ax.set_xlabel('Dataset')\n",
        "ax.set_ylabel('Accuracy (%)')\n",
        "ax.set_title('Accuracy Comparison')\n",
        "ax.legend()\n",
        "\n",
        "# Show the plot\n",
        "plt.show()\n"
      ],
      "metadata": {
        "colab": {
          "base_uri": "https://localhost:8080/",
          "height": 472
        },
        "id": "RvJvjNJfcA2V",
        "outputId": "d38c7caf-a07c-46cd-da25-7650e48eae10"
      },
      "execution_count": null,
      "outputs": [
        {
          "output_type": "display_data",
          "data": {
            "text/plain": [
              "<Figure size 640x480 with 1 Axes>"
            ],
            "image/png": "[encoded data removed]"
          },
          "metadata": {}
        }
      ]
    },
    {
      "cell_type": "code",
      "source": [
        "import matplotlib.pyplot as plt\n",
        "\n",
        "# Create a bar graph with blue bars\n",
        "fig, ax = plt.subplots()\n",
        "ax.bar('Original Data', f1_score_original_data, label='Original Data')\n",
        "ax.bar('New Data', f1_score_new_data, color='blue', label='New Data')\n",
        "\n",
        "# Add labels and title\n",
        "ax.set_xlabel('Dataset')\n",
        "ax.set_ylabel('F1 Score')\n",
        "ax.set_title('F1 Score Comparison')\n",
        "ax.legend()\n",
        "\n",
        "# Show the plot\n",
        "plt.show()\n"
      ],
      "metadata": {
        "colab": {
          "base_uri": "https://localhost:8080/",
          "height": 472
        },
        "id": "78KpEZ4xjwLP",
        "outputId": "35983503-96c8-4b6a-8242-0c8e7c1ffd89"
      },
      "execution_count": null,
      "outputs": [
        {
          "output_type": "display_data",
          "data": {
            "text/plain": [
              "<Figure size 640x480 with 1 Axes>"
            ],
            "image/png": "[encoded data removed]"
          },
          "metadata": {}
        }
      ]
    },
    {
      "cell_type": "code",
      "source": [
        "import matplotlib.pyplot as plt\n",
        "\n",
        "\n",
        "# Create a bar chart\n",
        "fig, ax = plt.subplots()\n",
        "ax.bar('NB', accuracy_nb, color='blue', label='NB')\n",
        "ax.bar('FFNN', accuracy_ffnn, color='green', label='FFNN')\n",
        "\n",
        "# Set y-axis limit from 0 to 1\n",
        "ax.set_ylim([0, 1])\n",
        "\n",
        "# Add labels and title\n",
        "ax.set_xlabel('Model')\n",
        "ax.set_ylabel('Accuracy')\n",
        "ax.set_title('Accuracy Comparison')\n",
        "ax.legend()\n",
        "\n",
        "# Show the plot\n",
        "plt.show()\n"
      ],
      "metadata": {
        "colab": {
          "base_uri": "https://localhost:8080/",
          "height": 472
        },
        "id": "J9ps8Ov1phJs",
        "outputId": "38d1d0fe-683d-470e-d630-380d4689a505"
      },
      "execution_count": null,
      "outputs": [
        {
          "output_type": "display_data",
          "data": {
            "text/plain": [
              "<Figure size 640x480 with 1 Axes>"
            ],
            "image/png": "[encoded data removed]"
          },
          "metadata": {}
        }
      ]
    },
    {
      "cell_type": "code",
      "source": [
        "import matplotlib.pyplot as plt\n",
        "\n",
        "# Create a bar chart\n",
        "fig, ax = plt.subplots()\n",
        "ax.bar('NB', f1_nb, color='blue', label='NB')\n",
        "ax.bar('FFNN', f1_ffnn, color='green', label='FFNN')\n",
        "\n",
        "# Set y-axis limit from 0 to 1\n",
        "ax.set_ylim([0, 1])\n",
        "\n",
        "# Add labels and title\n",
        "ax.set_xlabel('Model')\n",
        "ax.set_ylabel('F1 Score')\n",
        "ax.set_title('F1 Score Comparison')\n",
        "ax.legend()\n",
        "\n",
        "# Show the plot\n",
        "plt.show()\n"
      ],
      "metadata": {
        "id": "4G4Nhq7Gp17x",
        "outputId": "1d46b147-4e9f-433a-d62e-e59218f195e9",
        "colab": {
          "base_uri": "https://localhost:8080/",
          "height": 472
        }
      },
      "execution_count": null,
      "outputs": [
        {
          "output_type": "display_data",
          "data": {
            "text/plain": [
              "<Figure size 640x480 with 1 Axes>"
            ],
            "image/png": "[encoded data removed]"
          },
          "metadata": {}
        }
      ]
    }
  ]
}